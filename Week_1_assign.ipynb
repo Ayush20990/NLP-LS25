{
  "nbformat": 4,
  "nbformat_minor": 0,
  "metadata": {
    "colab": {
      "provenance": []
    },
    "kernelspec": {
      "name": "python3",
      "display_name": "Python 3"
    },
    "language_info": {
      "name": "python"
    }
  },
  "cells": [
    {
      "cell_type": "markdown",
      "source": [
        "## Problem 1"
      ],
      "metadata": {
        "id": "-OBBl3gs0JAJ"
      }
    },
    {
      "cell_type": "code",
      "source": [
        "import numpy as np\n",
        "arr = np.random.randint(1,50,size = (5,4))\n",
        "print(f\"The array formed is {arr}\")\n",
        "an_diag = np.fliplr(arr).diagonal()\n",
        "print(f\"The anti diagonal of the numpy array is {an_diag}\")\n"
      ],
      "metadata": {
        "colab": {
          "base_uri": "https://localhost:8080/"
        },
        "id": "srt9Nlay0KDJ",
        "outputId": "6187b268-025b-4eb0-82e7-449a4bd2f710"
      },
      "execution_count": 7,
      "outputs": [
        {
          "output_type": "stream",
          "name": "stdout",
          "text": [
            "The array formed is [[ 6 35 15 21]\n",
            " [46 41 26 37]\n",
            " [43  7 31 32]\n",
            " [35 48 13 40]\n",
            " [26 31 42 35]]\n",
            "The anti diagonal of the numpy array is [21 26  7 35]\n"
          ]
        }
      ]
    },
    {
      "cell_type": "code",
      "source": [
        "max_row = arr.max(axis = 1)\n",
        "print(f\"The maximum value in each column is {max_row}\")"
      ],
      "metadata": {
        "colab": {
          "base_uri": "https://localhost:8080/"
        },
        "id": "8r75OPgo0TFY",
        "outputId": "cef89e09-976a-459e-802c-32c0af2d7805"
      },
      "execution_count": 10,
      "outputs": [
        {
          "output_type": "stream",
          "name": "stdout",
          "text": [
            "The maximum value in each column is [35 46 43 48 42]\n"
          ]
        }
      ]
    },
    {
      "cell_type": "code",
      "source": [
        "mean = np.mean(arr)\n",
        "new_arr = arr[arr<= mean]\n",
        "print(new_arr)"
      ],
      "metadata": {
        "colab": {
          "base_uri": "https://localhost:8080/"
        },
        "id": "j15JrI0R0qn5",
        "outputId": "ade2f58a-7d4f-4684-ef35-206731a37b19"
      },
      "execution_count": 13,
      "outputs": [
        {
          "output_type": "stream",
          "name": "stdout",
          "text": [
            "[ 6 15 21 26  7 13 26]\n"
          ]
        }
      ]
    },
    {
      "cell_type": "code",
      "source": [
        "def numpy_boundary_traversal(matrix):\n",
        "  top = matrix[0,:]\n",
        "  right = matrix[1:-1,-1]\n",
        "  bottom = matrix[-1,::-1]\n",
        "  left = matrix[-2:0:-1,0]\n",
        "  return np.concatenate((top, right, bottom, left))\n",
        "\n",
        "print(numpy_boundary_traversal(arr))"
      ],
      "metadata": {
        "colab": {
          "base_uri": "https://localhost:8080/"
        },
        "id": "xjefO7ik1uyH",
        "outputId": "df61f9bf-10aa-44b3-830d-3d816d10dcc8"
      },
      "execution_count": 16,
      "outputs": [
        {
          "output_type": "stream",
          "name": "stdout",
          "text": [
            "[ 6 35 15 21 37 32 40 35 42 31 26 35 43 46]\n"
          ]
        }
      ]
    },
    {
      "cell_type": "markdown",
      "source": [
        "## Problem 2"
      ],
      "metadata": {
        "id": "O7fgLdTT3Vqz"
      }
    },
    {
      "cell_type": "code",
      "source": [
        "a = np.random.rand(20)*10\n",
        "print(a)"
      ],
      "metadata": {
        "colab": {
          "base_uri": "https://localhost:8080/"
        },
        "id": "D22AgErH3Wqp",
        "outputId": "e8944de5-43ee-4762-cfff-ea1bdb6ce7f5"
      },
      "execution_count": 18,
      "outputs": [
        {
          "output_type": "stream",
          "name": "stdout",
          "text": [
            "[4.42862993 9.14116625 1.90487948 4.18148104 1.92134265 6.19392672\n",
            " 5.8987718  7.05448313 8.33130936 0.54392116 6.91758939 0.12034667\n",
            " 5.65016314 0.98118583 6.59175098 9.08086117 5.22850758 6.96845437\n",
            " 8.61033549 7.67855788]\n"
          ]
        }
      ]
    },
    {
      "cell_type": "code",
      "source": [
        "a = a.round(2)\n",
        "print(a)"
      ],
      "metadata": {
        "colab": {
          "base_uri": "https://localhost:8080/"
        },
        "id": "bK_VOKvh3wRG",
        "outputId": "534b2bb9-85cf-4d00-81f8-2defb0aad2c0"
      },
      "execution_count": 19,
      "outputs": [
        {
          "output_type": "stream",
          "name": "stdout",
          "text": [
            "[4.43 9.14 1.9  4.18 1.92 6.19 5.9  7.05 8.33 0.54 6.92 0.12 5.65 0.98\n",
            " 6.59 9.08 5.23 6.97 8.61 7.68]\n"
          ]
        }
      ]
    },
    {
      "cell_type": "code",
      "source": [
        "min = a.min()\n",
        "max = a.max()\n",
        "med = np.median(a)\n",
        "print(f\"The minimum value is {min}\")\n",
        "print(f\"The maximum value is {max}\")\n",
        "print(f\"The median value is {med}\")\n"
      ],
      "metadata": {
        "colab": {
          "base_uri": "https://localhost:8080/"
        },
        "id": "ZHwcRPsP4Ntf",
        "outputId": "3f1cfceb-bd04-42d6-9b3a-4d5d12ef7dc4"
      },
      "execution_count": 21,
      "outputs": [
        {
          "output_type": "stream",
          "name": "stdout",
          "text": [
            "The minimum value is 0.12\n",
            "The maximum value is 9.14\n",
            "The median value is 6.045\n"
          ]
        }
      ]
    },
    {
      "cell_type": "code",
      "source": [
        "a = np.where( a< 5, a**2, a)\n",
        "print(a)"
      ],
      "metadata": {
        "colab": {
          "base_uri": "https://localhost:8080/"
        },
        "id": "qEz1L0RV4WT2",
        "outputId": "040654da-abf2-4e2d-bc6a-c48316672d67"
      },
      "execution_count": 22,
      "outputs": [
        {
          "output_type": "stream",
          "name": "stdout",
          "text": [
            "[1.96249e+01 9.14000e+00 3.61000e+00 1.74724e+01 3.68640e+00 6.19000e+00\n",
            " 5.90000e+00 7.05000e+00 8.33000e+00 2.91600e-01 6.92000e+00 1.44000e-02\n",
            " 5.65000e+00 9.60400e-01 6.59000e+00 9.08000e+00 5.23000e+00 6.97000e+00\n",
            " 8.61000e+00 7.68000e+00]\n"
          ]
        }
      ]
    },
    {
      "cell_type": "code",
      "source": [
        "def numpy_alternate_sort(arr):\n",
        "  sort_arr = np.sort(arr)\n",
        "  result = []\n",
        "  i, j =0, len(sort_arr)-1\n",
        "  while i<=j:\n",
        "    if i== j:\n",
        "      result.append(sort_arr[i])\n",
        "    else:\n",
        "      result.append(sort_arr[i])\n",
        "      result.append(sort_arr[j])\n",
        "    i+=1\n",
        "    j-=1\n",
        "  return np.array(result)\n",
        "\n",
        "print(numpy_alternate_sort(a))"
      ],
      "metadata": {
        "colab": {
          "base_uri": "https://localhost:8080/"
        },
        "id": "pMkUh7x14qVb",
        "outputId": "db03e19b-9ab0-4e22-cac3-32eda10fd248"
      },
      "execution_count": 23,
      "outputs": [
        {
          "output_type": "stream",
          "name": "stdout",
          "text": [
            "[1.44000e-02 1.96249e+01 2.91600e-01 1.74724e+01 9.60400e-01 9.14000e+00\n",
            " 3.61000e+00 9.08000e+00 3.68640e+00 8.61000e+00 5.23000e+00 8.33000e+00\n",
            " 5.65000e+00 7.68000e+00 5.90000e+00 7.05000e+00 6.19000e+00 6.97000e+00\n",
            " 6.59000e+00 6.92000e+00]\n"
          ]
        }
      ]
    },
    {
      "cell_type": "markdown",
      "source": [
        "## Problem 3"
      ],
      "metadata": {
        "id": "Yh2ELa3X5msj"
      }
    },
    {
      "cell_type": "code",
      "source": [
        "import pandas as pd\n",
        "names = [f\"Student{i+1}\" for i in range(10)]\n",
        "Subjects = np.random.choice([\"Calculus\", \"Thermodynamics\", \"Fluid\"],10)\n",
        "Scores = np.random.randint(50,100, size = 10)\n",
        "df = pd.DataFrame({\"Name\": names,\"Subject\":Subjects, \"Score\": Scores})\n",
        "print(df)"
      ],
      "metadata": {
        "colab": {
          "base_uri": "https://localhost:8080/"
        },
        "id": "9mgfD7mb5iXS",
        "outputId": "4e962bad-4aae-4ced-b509-a711c637ffc1"
      },
      "execution_count": 34,
      "outputs": [
        {
          "output_type": "stream",
          "name": "stdout",
          "text": [
            "        Name         Subject  Score\n",
            "0   Student1           Fluid     65\n",
            "1   Student2           Fluid     67\n",
            "2   Student3  Thermodynamics     53\n",
            "3   Student4        Calculus     60\n",
            "4   Student5  Thermodynamics     75\n",
            "5   Student6           Fluid     97\n",
            "6   Student7  Thermodynamics     86\n",
            "7   Student8        Calculus     76\n",
            "8   Student9           Fluid     88\n",
            "9  Student10           Fluid     67\n"
          ]
        }
      ]
    },
    {
      "cell_type": "code",
      "source": [
        "df['Grade'] = df['Score'].apply(lambda x: 'A' if x>90 else ('B' if x>80 else ('C' if x>70 else( 'D' if x>60 else 'F'))))\n",
        "print(df)"
      ],
      "metadata": {
        "colab": {
          "base_uri": "https://localhost:8080/"
        },
        "id": "rtxl5H3059ND",
        "outputId": "54911982-1afd-4884-f466-564eed440538"
      },
      "execution_count": 35,
      "outputs": [
        {
          "output_type": "stream",
          "name": "stdout",
          "text": [
            "        Name         Subject  Score Grade\n",
            "0   Student1           Fluid     65     D\n",
            "1   Student2           Fluid     67     D\n",
            "2   Student3  Thermodynamics     53     F\n",
            "3   Student4        Calculus     60     F\n",
            "4   Student5  Thermodynamics     75     C\n",
            "5   Student6           Fluid     97     A\n",
            "6   Student7  Thermodynamics     86     B\n",
            "7   Student8        Calculus     76     C\n",
            "8   Student9           Fluid     88     B\n",
            "9  Student10           Fluid     67     D\n"
          ]
        }
      ]
    },
    {
      "cell_type": "code",
      "source": [
        "df = df.sort_values(by = 'Score', ascending = False)\n",
        "print(df)\n"
      ],
      "metadata": {
        "colab": {
          "base_uri": "https://localhost:8080/"
        },
        "id": "CgdT1Rc97ecm",
        "outputId": "cc297122-8091-44ab-8388-bd509f508225"
      },
      "execution_count": 36,
      "outputs": [
        {
          "output_type": "stream",
          "name": "stdout",
          "text": [
            "        Name         Subject  Score Grade\n",
            "5   Student6           Fluid     97     A\n",
            "8   Student9           Fluid     88     B\n",
            "6   Student7  Thermodynamics     86     B\n",
            "7   Student8        Calculus     76     C\n",
            "4   Student5  Thermodynamics     75     C\n",
            "1   Student2           Fluid     67     D\n",
            "9  Student10           Fluid     67     D\n",
            "0   Student1           Fluid     65     D\n",
            "3   Student4        Calculus     60     F\n",
            "2   Student3  Thermodynamics     53     F\n"
          ]
        }
      ]
    },
    {
      "cell_type": "code",
      "source": [
        "sub = np.unique(df['Subject'])\n",
        "for s in sub:\n",
        "  mean = df[df['Subject']==s]['Score'].mean()\n",
        "  print(f\"The mean score for {s} is {mean}\")"
      ],
      "metadata": {
        "colab": {
          "base_uri": "https://localhost:8080/"
        },
        "id": "gL2dDnjt7qOG",
        "outputId": "c582330b-5282-47dc-81a2-988ca35e5c10"
      },
      "execution_count": 40,
      "outputs": [
        {
          "output_type": "stream",
          "name": "stdout",
          "text": [
            "The mean score for Calculus is 68.0\n",
            "The mean score for Fluid is 76.8\n",
            "The mean score for Thermodynamics is 71.33333333333333\n"
          ]
        }
      ]
    },
    {
      "cell_type": "code",
      "source": [
        "def pandas_filter_dataframe(df):\n",
        "  return df[df['Score']>80]\n",
        "filtered_df = pandas_filter_dataframe(df)\n",
        "print(filtered_df)\n"
      ],
      "metadata": {
        "colab": {
          "base_uri": "https://localhost:8080/"
        },
        "id": "iYxs8jm38Ozp",
        "outputId": "0250c6a5-71b6-4213-efdf-3948402cc474"
      },
      "execution_count": 41,
      "outputs": [
        {
          "output_type": "stream",
          "name": "stdout",
          "text": [
            "       Name         Subject  Score Grade\n",
            "5  Student6           Fluid     97     A\n",
            "8  Student9           Fluid     88     B\n",
            "6  Student7  Thermodynamics     86     B\n"
          ]
        }
      ]
    },
    {
      "cell_type": "markdown",
      "source": [
        "## Problem 4"
      ],
      "metadata": {
        "id": "DEaTHgJ68y27"
      }
    },
    {
      "cell_type": "code",
      "source": [
        "import pandas as pd\n",
        "from sklearn.feature_extraction.text import CountVectorizer\n",
        "from sklearn.model_selection import train_test_split\n",
        "from sklearn.naive_bayes import MultinomialNB\n",
        "from sklearn.metrics import accuracy_score\n",
        "import random\n",
        "\n",
        "positive_reviews = ['Great Movie!', 'Very Good Movie','I loved it!!', 'True Cinema', 'Excellent', 'Enjoyed it!!!','Worth Watching', 'Money well spent', 'A movie of its own', 'Exceptionally great']*5\n",
        "negative_reviews = ['trash', 'shit!!!!', 'Wasted my money', 'Not recommended', 'Exceptionally bad', 'Terrible Movie', 'I hated it', 'Really bad', ' Awfull experience','Waste of time']*5\n",
        "\n",
        "reviews = positive_reviews+ negative_reviews\n",
        "sentiments = ['positive']*50 + ['negative']*50\n",
        "df= pd.DataFrame({'Review':reviews, 'Sentiment': sentiments})\n",
        "\n",
        "vectorizer = CountVectorizer(max_features = 500, stop_words='english')\n",
        "X = vectorizer.fit_transform(df['Review'])\n",
        "y = df['Sentiment']\n",
        "\n",
        "x_train, x_test, y_train, y_test = train_test_split(X,y,test_size = 0.2, random_state= 30)\n",
        "model = MultinomialNB()\n",
        "model.fit(x_train,y_train)\n",
        "\n",
        "y_pred = model.predict(x_test)\n",
        "print(accuracy_score(y_test,y_pred))\n",
        "\n",
        "def predict_review_sentiment(mode, vectorizer, review):\n",
        "  review_vector = vectorizer.transform([review])\n",
        "  return model.predict(review_vector)[0]\n",
        "\n",
        "print(predict_review_sentiment(model, vectorizer, 'This movie was bad'))"
      ],
      "metadata": {
        "colab": {
          "base_uri": "https://localhost:8080/"
        },
        "id": "YmjssujF8z02",
        "outputId": "2dda8c58-aaa6-432f-d532-b01e57459728"
      },
      "execution_count": 9,
      "outputs": [
        {
          "output_type": "stream",
          "name": "stdout",
          "text": [
            "1.0\n",
            "negative\n"
          ]
        }
      ]
    },
    {
      "cell_type": "markdown",
      "source": [
        "## Problem 5"
      ],
      "metadata": {
        "id": "5uqxbVbmhVeK"
      }
    },
    {
      "cell_type": "code",
      "source": [
        "from sklearn.feature_extraction.text import TfidfVectorizer\n",
        "from sklearn.linear_model import LogisticRegression\n",
        "from sklearn.metrics import classification_report\n",
        "g = ['good product', ' worth it', 'good features','great functionality','nice color','great usage', 'Usefull','Nice','Important','Great experience']*5\n",
        "b = ['not worth it','bad design','not functional','bad color','trash', 'skill issue','Not usefull', 'Useless','Unimportant','Very Bad experience']*5\n",
        "label = ['good']*50+ ['bad']*50\n",
        "texts= g+b\n",
        "df = pd.DataFrame({'Text':texts,'Label':label})\n",
        "\n",
        "tfidf = TfidfVectorizer(max_features = 300, stop_words='english')\n",
        "x2= tfidf.fit_transform(df['Text'])\n",
        "y2= df['Label']\n",
        "x_train,x_test,y_train,y_test = train_test_split(x2,y2,test_size = 0.25,random_state=20)\n",
        "log = LogisticRegression()\n",
        "log.fit(x_train,y_train)\n",
        "y_pred = log.predict(x_test)\n",
        "print(classification_report(y_test,y_pred))\n",
        "\n",
        "def text_preprocess_vectorizer(texts, vectorizer):\n",
        "  return vectorizer.transform(texts)\n"
      ],
      "metadata": {
        "colab": {
          "base_uri": "https://localhost:8080/"
        },
        "id": "_NDLs53XcoLU",
        "outputId": "065086c1-9de9-4951-9bb0-6d3b219dce51"
      },
      "execution_count": 20,
      "outputs": [
        {
          "output_type": "stream",
          "name": "stdout",
          "text": [
            "              precision    recall  f1-score   support\n",
            "\n",
            "         bad       0.91      0.83      0.87        12\n",
            "        good       0.86      0.92      0.89        13\n",
            "\n",
            "    accuracy                           0.88        25\n",
            "   macro avg       0.88      0.88      0.88        25\n",
            "weighted avg       0.88      0.88      0.88        25\n",
            "\n"
          ]
        }
      ]
    },
    {
      "cell_type": "code",
      "source": [
        "print(text_preprocess_vectorizer([\"Nice and good product\"], tfidf).toarray())"
      ],
      "metadata": {
        "colab": {
          "base_uri": "https://localhost:8080/"
        },
        "id": "tq58wEoIfrFs",
        "outputId": "61e6378e-b1b2-41c4-97b6-431ddcb98a03"
      },
      "execution_count": 23,
      "outputs": [
        {
          "output_type": "stream",
          "name": "stdout",
          "text": [
            "[[0.         0.         0.         0.         0.         0.\n",
            "  0.         0.54134764 0.         0.         0.         0.54134764\n",
            "  0.64333931 0.         0.         0.         0.         0.\n",
            "  0.         0.        ]]\n"
          ]
        }
      ]
    },
    {
      "cell_type": "code",
      "source": [],
      "metadata": {
        "id": "_QyXDPBUhKV8"
      },
      "execution_count": null,
      "outputs": []
    }
  ]
}