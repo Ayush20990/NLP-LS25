{
  "nbformat": 4,
  "nbformat_minor": 0,
  "metadata": {
    "colab": {
      "provenance": []
    },
    "kernelspec": {
      "name": "python3",
      "display_name": "Python 3"
    },
    "language_info": {
      "name": "python"
    }
  },
  "cells": [
    {
      "cell_type": "code",
      "source": [
        "import math\n",
        "import numpy as np\n",
        "corpus = [\n",
        "    'the sun is a star',\n",
        "    'the moon is a satellite',\n",
        "    'the sun and moon are celestial bodies'\n",
        "]"
      ],
      "metadata": {
        "id": "b-ScEsypWbuq"
      },
      "execution_count": null,
      "outputs": []
    },
    {
      "cell_type": "code",
      "source": [
        "words = [word for sent in corpus for word in sent.split()]\n",
        "words = list(set(words))\n",
        "print(words)"
      ],
      "metadata": {
        "colab": {
          "base_uri": "https://localhost:8080/"
        },
        "id": "OlXfvrUgWloH",
        "outputId": "1f3d2c90-d5a1-48e3-df27-4a459735b9be"
      },
      "execution_count": null,
      "outputs": [
        {
          "output_type": "stream",
          "name": "stdout",
          "text": [
            "['star', 'are', 'the', 'celestial', 'bodies', 'sun', 'moon', 'a', 'and', 'is', 'satellite']\n"
          ]
        }
      ]
    },
    {
      "cell_type": "code",
      "source": [
        "term_freq = []\n",
        "df = {}\n",
        "for sent in corpus:\n",
        "  wor = sent.split()\n",
        "  sent_term_freq = {}\n",
        "  for word in words:\n",
        "    count = wor.count(word)\n",
        "    sent_term_freq[word]= count/len(wor)\n",
        "    if count > 0:\n",
        "      df[word] = df.get(word, 0) + 1\n",
        "  term_freq.append(sent_term_freq)\n",
        "print(term_freq)\n"
      ],
      "metadata": {
        "colab": {
          "base_uri": "https://localhost:8080/"
        },
        "id": "PSKH875kcP6P",
        "outputId": "7b221cbc-7fde-4cb8-fe2b-8914b2a6b1b6"
      },
      "execution_count": null,
      "outputs": [
        {
          "output_type": "stream",
          "name": "stdout",
          "text": [
            "[{'star': 0.2, 'are': 0.0, 'the': 0.2, 'celestial': 0.0, 'bodies': 0.0, 'sun': 0.2, 'moon': 0.0, 'a': 0.2, 'and': 0.0, 'is': 0.2, 'satellite': 0.0}, {'star': 0.0, 'are': 0.0, 'the': 0.2, 'celestial': 0.0, 'bodies': 0.0, 'sun': 0.0, 'moon': 0.2, 'a': 0.2, 'and': 0.0, 'is': 0.2, 'satellite': 0.2}, {'star': 0.0, 'are': 0.14285714285714285, 'the': 0.14285714285714285, 'celestial': 0.14285714285714285, 'bodies': 0.14285714285714285, 'sun': 0.14285714285714285, 'moon': 0.14285714285714285, 'a': 0.0, 'and': 0.14285714285714285, 'is': 0.0, 'satellite': 0.0}]\n"
          ]
        }
      ]
    },
    {
      "cell_type": "code",
      "source": [
        "print(df)"
      ],
      "metadata": {
        "colab": {
          "base_uri": "https://localhost:8080/"
        },
        "id": "V7s3RGZGc-CO",
        "outputId": "54dbc2b5-8099-4cc5-9bca-45101ba9c0e2"
      },
      "execution_count": null,
      "outputs": [
        {
          "output_type": "stream",
          "name": "stdout",
          "text": [
            "{'star': 1, 'the': 3, 'sun': 2, 'a': 2, 'is': 2, 'moon': 2, 'satellite': 1, 'are': 1, 'celestial': 1, 'bodies': 1, 'and': 1}\n"
          ]
        }
      ]
    },
    {
      "cell_type": "code",
      "source": [
        "tf_idf = []\n",
        "for sent in term_freq:\n",
        "  sent_tf_idf = {}\n",
        "  for word, value in sent.items():\n",
        "    idf = math.log(len(corpus)/df[word])\n",
        "    sent_tf_idf[word] = value * idf\n",
        "  tf_idf.append(sent_tf_idf)\n",
        "print(tf_idf)"
      ],
      "metadata": {
        "colab": {
          "base_uri": "https://localhost:8080/"
        },
        "id": "Avmorqlddg7u",
        "outputId": "2d96fca8-8379-4a44-da1c-781b0b2236af"
      },
      "execution_count": null,
      "outputs": [
        {
          "output_type": "stream",
          "name": "stdout",
          "text": [
            "[{'star': 0.21972245773362198, 'are': 0.0, 'the': 0.0, 'celestial': 0.0, 'bodies': 0.0, 'sun': 0.08109302162163289, 'moon': 0.0, 'a': 0.08109302162163289, 'and': 0.0, 'is': 0.08109302162163289, 'satellite': 0.0}, {'star': 0.0, 'are': 0.0, 'the': 0.0, 'celestial': 0.0, 'bodies': 0.0, 'sun': 0.0, 'moon': 0.08109302162163289, 'a': 0.08109302162163289, 'and': 0.0, 'is': 0.08109302162163289, 'satellite': 0.21972245773362198}, {'star': 0.0, 'are': 0.15694461266687282, 'the': 0.0, 'celestial': 0.15694461266687282, 'bodies': 0.15694461266687282, 'sun': 0.05792358687259491, 'moon': 0.05792358687259491, 'a': 0.0, 'and': 0.15694461266687282, 'is': 0.0, 'satellite': 0.0}]\n"
          ]
        }
      ]
    },
    {
      "cell_type": "code",
      "source": [
        "from sklearn.feature_extraction.text import TfidfVectorizer\n",
        "import pandas as pd\n",
        "corpus = [\n",
        "    'the sun is a star',\n",
        "    'the moon is a satellite',\n",
        "    'the sun and moon are celestial bodies'\n",
        "]\n",
        "vectorizer = TfidfVectorizer()\n",
        "X = vectorizer.fit_transform(corpus)\n",
        "feature_names = vectorizer.get_feature_names_out()\n",
        "tfidf_matrix = X.toarray()\n",
        "df_sklearn = pd.DataFrame(tfidf_matrix, columns=feature_names)\n",
        "print(\"\\nTF-IDF (Scikit-learn):\")\n",
        "print(df_sklearn.round(3))\n"
      ],
      "metadata": {
        "colab": {
          "base_uri": "https://localhost:8080/"
        },
        "id": "LMQylkIvev4s",
        "outputId": "5a839b21-ff92-4a8b-99f5-38211a3e87cf"
      },
      "execution_count": null,
      "outputs": [
        {
          "output_type": "stream",
          "name": "stdout",
          "text": [
            "\n",
            "TF-IDF (Scikit-learn):\n",
            "     and    are  bodies  celestial    is   moon  satellite   star    sun  \\\n",
            "0  0.000  0.000   0.000      0.000  0.48  0.000      0.000  0.632  0.480   \n",
            "1  0.000  0.000   0.000      0.000  0.48  0.480      0.632  0.000  0.000   \n",
            "2  0.426  0.426   0.426      0.426  0.00  0.324      0.000  0.000  0.324   \n",
            "\n",
            "     the  \n",
            "0  0.373  \n",
            "1  0.373  \n",
            "2  0.252  \n"
          ]
        }
      ]
    },
    {
      "cell_type": "code",
      "source": [
        "from sklearn.feature_extraction.text import CountVectorizer\n",
        "corpus = [\n",
        "    'the sun is a star',\n",
        "    'the moon is a satellite',\n",
        "    'the sun and moon are celestial bodies'\n",
        "]\n",
        "\n",
        "vectorizer = CountVectorizer()\n",
        "X = vectorizer.fit_transform(corpus)\n",
        "\n",
        "print(vectorizer.get_feature_names_out())\n",
        "print(X.toarray())\n"
      ],
      "metadata": {
        "colab": {
          "base_uri": "https://localhost:8080/"
        },
        "id": "Ip520OA_gj0I",
        "outputId": "09d19f68-1e0c-4370-9cd9-c5276320d360"
      },
      "execution_count": null,
      "outputs": [
        {
          "output_type": "stream",
          "name": "stdout",
          "text": [
            "['and' 'are' 'bodies' 'celestial' 'is' 'moon' 'satellite' 'star' 'sun'\n",
            " 'the']\n",
            "[[0 0 0 0 1 0 0 1 1 1]\n",
            " [0 0 0 0 1 1 1 0 0 1]\n",
            " [1 1 1 1 0 1 0 0 1 1]]\n"
          ]
        }
      ]
    },
    {
      "cell_type": "code",
      "source": [],
      "metadata": {
        "id": "yuU80wHOgkN7"
      },
      "execution_count": null,
      "outputs": []
    }
  ]
}